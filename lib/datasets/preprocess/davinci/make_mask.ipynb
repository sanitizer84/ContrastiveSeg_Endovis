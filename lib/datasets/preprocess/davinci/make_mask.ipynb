{
 "cells": [
  {
   "cell_type": "code",
   "execution_count": 1,
   "metadata": {},
   "outputs": [],
   "source": [
    "# 数据集中彩色的掩码，按照colors.json中给出的编号，替换为classid写入到单通道掩码图片中\n",
    "import os\n",
    "import cv2\n",
    "import numpy as np\n",
    "import json\n",
    "import glob\n",
    "import matplotlib.pyplot as plt\n",
    "\n",
    "h, w = 1024, 1280"
   ]
  },
  {
   "cell_type": "code",
   "execution_count": 5,
   "metadata": {},
   "outputs": [
    {
     "data": {
      "text/plain": [
       "[{'name': 'background-tissue', 'color': [0, 0, 0], 'classid': 0},\n",
       " {'name': 'instrument-shaft', 'color': [0, 255, 0], 'classid': 1},\n",
       " {'name': 'instrument-clasper', 'color': [0, 255, 255], 'classid': 2},\n",
       " {'name': 'instrument-wrist', 'color': [125, 255, 12], 'classid': 3},\n",
       " {'name': 'kidney-parenchyma', 'color': [255, 55, 0], 'classid': 4},\n",
       " {'name': 'covered-kidney', 'color': [24, 55, 125], 'classid': 5},\n",
       " {'name': 'thread', 'color': [187, 155, 25], 'classid': 6},\n",
       " {'name': 'clamps', 'color': [0, 255, 125], 'classid': 7},\n",
       " {'name': 'suturing-needle', 'color': [255, 255, 125], 'classid': 8},\n",
       " {'name': 'suction-instrument', 'color': [123, 15, 175], 'classid': 9},\n",
       " {'name': 'small-intestine', 'color': [124, 155, 5], 'classid': 10},\n",
       " {'name': 'ultrasound-probe', 'color': [12, 255, 141], 'classid': 11}]"
      ]
     },
     "execution_count": 5,
     "metadata": {},
     "output_type": "execute_result"
    }
   ],
   "source": [
    "with open(\"colors.json\", \"r\") as f:\n",
    "    label_list = json.load(f)\n",
    "# label_list = label_list[:8]\n",
    "label_list\n"
   ]
  },
  {
   "cell_type": "code",
   "execution_count": 3,
   "metadata": {},
   "outputs": [
    {
     "name": "stdout",
     "output_type": "stream",
     "text": [
      "/home/duhj/datasets/2018-12colors/train/label/seq_16_frame148.bmp\r"
     ]
    }
   ],
   "source": [
    "# 彩色掩码生成灰度掩码，用类号替代颜色\n",
    "h = 512\n",
    "w = 512\n",
    "output_dir = '/home/duhj/datasets/2018-12colors/train/label/'\n",
    "!mkdir -p $output_dir\n",
    "for id in range(1, 17):    \n",
    "    data_dir = '/home/duhj/datasets/miccai_2018/train_data/seq_' + str(id) +'/labels/'\n",
    "    files = glob.iglob(data_dir+'/*.png')  \n",
    "    # count = 0\n",
    "    for f in files:\n",
    "        image = cv2.cvtColor(cv2.imread(f), cv2.COLOR_BGR2RGB)\n",
    "        image = cv2.resize(image, (w, h), cv2.INTER_CUBIC)  # type: ignore cv2的w在h前\n",
    "        # 背景白色\n",
    "        mask = np.zeros([h, w, 1], np.uint8)\n",
    "        threshold = 10  # 差值小于阈值的像素将被替换\n",
    "        for i in range(1, len(label_list)):\n",
    "            # 要替换的颜色\n",
    "            target_color = np.array(label_list[i]['color']) \n",
    "            # 计算每个像素与目标颜色的差值\n",
    "            color_difference = np.abs(image - target_color)\n",
    "            # 计算差值的总和（BGR通道之和）\n",
    "            color_difference_sum = np.sum(color_difference, axis=2)\n",
    "            # 找到需要替换的像素索引\n",
    "            replace_indices = np.where(color_difference_sum < threshold)\n",
    "            # 将需要替换的像素值设置为掩码类别编号\n",
    "            mask[replace_indices] = label_list[i]['classid']\n",
    "        save_name = output_dir + 'seq_' + str(id) + '_' + f[-12:-4] +'.bmp'\n",
    "        cv2.imwrite(save_name, mask)\n",
    "        print(\"{}\".format(save_name), end='\\r')\n",
    "        # count += 1\n"
   ]
  },
  {
   "cell_type": "code",
   "execution_count": 5,
   "metadata": {},
   "outputs": [
    {
     "name": "stdout",
     "output_type": "stream",
     "text": [
      "0 106406\n",
      "1 15091\n",
      "2 19714\n",
      "3 0\n",
      "4 84684\n",
      "5 0\n",
      "6 3604\n",
      "7 10212\n",
      "8 0\n",
      "9 0\n",
      "10 22433\n",
      "11 0\n"
     ]
    }
   ],
   "source": [
    "# 检查某张mask图像中，不同颜色掩码生成的不同数值的个数\n",
    "checkimage = cv2.imread('/home/duhj/datasets/2018-12colors/train/label/seq_1_frame050.bmp', cv2.IMREAD_GRAYSCALE)\n",
    "\n",
    "for k in range(12):\n",
    "    count = 0\n",
    "    for i in range(checkimage.shape[0]):\n",
    "        for j in range(checkimage.shape[1]):\n",
    "            # if checkimage[i][j] ==mask_list[k]['classid']:\n",
    "            if checkimage[i][j] ==k:\n",
    "                count+=1\n",
    "    print(k, count)"
   ]
  },
  {
   "cell_type": "code",
   "execution_count": 4,
   "metadata": {},
   "outputs": [
    {
     "name": "stdout",
     "output_type": "stream",
     "text": [
      "[[1.2702312e+08]\n",
      " [2.2617780e+07]\n",
      " [4.9349580e+06]\n",
      " [5.6081730e+06]\n",
      " [6.0075736e+07]\n",
      " [3.0379388e+07]\n",
      " [3.2760800e+05]\n",
      " [6.2765000e+04]\n",
      " [4.7133000e+04]\n",
      " [0.0000000e+00]\n",
      " [7.9977820e+06]\n",
      " [2.2830950e+06]]\n",
      "997\n"
     ]
    }
   ],
   "source": [
    "# 训练掩码图中，包括0在内的所有像素的值，计总数，最后的到所有类别的占比，求出各类的权重\n",
    "data_dir = '/home/duhj/datasets/2018-12colors/val/label/'\n",
    "\n",
    "files = glob.iglob(data_dir+'*.bmp')\n",
    "pics = 0\n",
    "counts = None\n",
    "num_classes = len(label_list)\n",
    "for f in files:\n",
    "    img = cv2.imread(f, cv2.IMREAD_GRAYSCALE)\n",
    "    hist = cv2.calcHist([img], [0], None, [num_classes ], [0, num_classes ])\n",
    "    if counts is None:\n",
    "        counts = hist\n",
    "    else:\n",
    "        counts += hist\n",
    "    # print(str(f), end='\\r')\n",
    "    pics += 1\n",
    "print(counts)\n",
    "print(pics)"
   ]
  },
  {
   "cell_type": "code",
   "execution_count": 7,
   "metadata": {},
   "outputs": [
    {
     "name": "stdout",
     "output_type": "stream",
     "text": [
      "/home/duhj/datasets/2018-12colors/val/label/seq_4_frame248.bmp\r"
     ]
    }
   ],
   "source": [
    "# 彩色掩码生成灰度掩码，用类号替代颜色\n",
    "h = 512\n",
    "w = 512\n",
    "output_dir = '/home/duhj/datasets/2018-12colors/val/label/'\n",
    "!mkdir -p $output_dir\n",
    "for id in range(1, 17):    \n",
    "    data_dir = '/home/duhj/datasets/miccai_2018/test_data/seq_' + str(id) +'/labels/'\n",
    "    files = glob.iglob(data_dir+'/*.png')  \n",
    "    # count = 0\n",
    "    for f in files:\n",
    "        image = cv2.cvtColor(cv2.imread(f), cv2.COLOR_BGR2RGB)\n",
    "        image = cv2.resize(image, (w, h), cv2.INTER_CUBIC)  # type: ignore cv2的w在h前\n",
    "        # 背景白色\n",
    "        mask = np.zeros([h, w, 1], np.uint8)\n",
    "        threshold = 10  # 差值小于阈值的像素将被替换\n",
    "        for i in range(1, len(label_list)):\n",
    "            # 要替换的颜色\n",
    "            target_color = np.array(label_list[i]['color']) \n",
    "            # 计算每个像素与目标颜色的差值\n",
    "            color_difference = np.abs(image - target_color)\n",
    "            # 计算差值的总和（BGR通道之和）\n",
    "            color_difference_sum = np.sum(color_difference, axis=2)\n",
    "            # 找到需要替换的像素索引\n",
    "            replace_indices = np.where(color_difference_sum < threshold)\n",
    "            # 将需要替换的像素值设置为掩码类别编号\n",
    "            mask[replace_indices] = label_list[i]['classid']\n",
    "        save_name = output_dir + 'seq_' + str(id) + '_' + f[-12:-4] +'.bmp'\n",
    "        cv2.imwrite(save_name, mask)\n",
    "        print(\"{}\".format(save_name), end='\\r')\n",
    "        # count += 1\n"
   ]
  },
  {
   "cell_type": "code",
   "execution_count": 10,
   "metadata": {},
   "outputs": [
    {
     "name": "stdout",
     "output_type": "stream",
     "text": [
      "[[1.2702312e+08]\n",
      " [2.2617780e+07]\n",
      " [4.9349580e+06]\n",
      " [5.6081730e+06]\n",
      " [6.0075736e+07]\n",
      " [3.0379388e+07]\n",
      " [3.2760800e+05]\n",
      " [6.2765000e+04]\n",
      " [4.7133000e+04]\n",
      " [0.0000000e+00]\n",
      " [7.9977820e+06]\n",
      " [2.2830950e+06]]\n",
      "997\n"
     ]
    }
   ],
   "source": [
    "# 测试/验证 掩码图中，包括0在内的所有类的张数，计总数，最后的到所有类别的占比，求出各类的权重\n",
    "data_dir = '/home/duhj/datasets/2018-12colors/val/label/'\n",
    "\n",
    "files = glob.iglob(data_dir+'*.bmp')\n",
    "pics = 0\n",
    "counts = None\n",
    "num_classes = len(label_list)\n",
    "for f in files:\n",
    "    img = cv2.imread(f, cv2.IMREAD_GRAYSCALE)\n",
    "    hist = cv2.calcHist([img], [0], None, [num_classes ], [0, num_classes ])\n",
    "    if counts is None:\n",
    "        counts = hist\n",
    "    else:\n",
    "        counts += hist\n",
    "    # print(str(f), end='\\r')\n",
    "    pics += 1\n",
    "print(counts)\n",
    "print(pics)"
   ]
  },
  {
   "cell_type": "code",
   "execution_count": 15,
   "metadata": {},
   "outputs": [
    {
     "name": "stdout",
     "output_type": "stream",
     "text": [
      "5\n"
     ]
    }
   ],
   "source": [
    "# 查看实际共有多少类别\n",
    "data_dir = '256/mask'\n",
    "files = glob.iglob(data_dir+'/*.png')\n",
    "max = 0\n",
    "for f in files:\n",
    "    for k in range(1, len(label_list)):\n",
    "        \n",
    "        count = 0\n",
    "        for i in range(checkimage.shape[0]):\n",
    "            for j in range(checkimage.shape[1]):\n",
    "                if checkimage[i][j] ==label_list[k]['classid']:\n",
    "                    count+=1\n",
    "                    if label_list[k]['classid'] > max:\n",
    "                        max = label_list[k]['classid']\n",
    "                        break\n",
    "print(max)"
   ]
  },
  {
   "cell_type": "code",
   "execution_count": 2,
   "metadata": {},
   "outputs": [],
   "source": [
    "# 把all_data下所有子目录中的图像汇总到out_images\n",
    "for id in range(1, 17):\n",
    "    \n",
    "    data_dir = '/home/duhj/datasets/miccai_2018/seq_' + str(id) +'/left_frames/'\n",
    "    files = glob.iglob(data_dir+'/*.png')\n",
    "\n",
    "    for f in files:\n",
    "        save_name = '/home/duhj/datasets/davinci_1/image/seq_'+str(id)+'_' + f[-12:-4] +'.png'\n",
    "        !cp $f $save_name"
   ]
  },
  {
   "cell_type": "code",
   "execution_count": 4,
   "metadata": {},
   "outputs": [
    {
     "name": "stdout",
     "output_type": "stream",
     "text": [
      "/home/duhj/datasets/miccai_2018/train_data/seq_16/left_frames/frame021.png\r"
     ]
    }
   ],
   "source": [
    "# 把all_data下所有子目录中的图像缩放后汇总到out_images\n",
    "output_dir = '/home/duhj/datasets/davinci/train/image/'\n",
    "!mkdir -p $output_dir\n",
    "for id in range(1, 17):\n",
    "    data_dir = '/home/duhj/datasets/miccai_2018/train_data/seq_' + str(id) +'/left_frames/'\n",
    "    files = glob.iglob(data_dir+'/*.png')\n",
    "    count =0\n",
    "    for filename in files:\n",
    "        img = cv2.imread(filename, cv2.IMREAD_COLOR)\n",
    "        img = cv2.resize(img, (w, h), cv2.INTER_CUBIC)  # type: ignore\n",
    "        savename = output_dir + 'seq_'+str(id)+'_' + filename[-12:-4]+'.bmp'\n",
    "        cv2.imwrite(savename, img)\n",
    "        print(filename, end='\\r')\n",
    "        count += 1\n",
    "        if count == 22:\n",
    "            break\n",
    "    "
   ]
  },
  {
   "cell_type": "code",
   "execution_count": 10,
   "metadata": {},
   "outputs": [
    {
     "name": "stdout",
     "output_type": "stream",
     "text": [
      "(5632, 512, 3)\n"
     ]
    }
   ],
   "source": [
    "import cv2  \n",
    "import numpy as np  \n",
    "import os  \n",
    "  \n",
    "# 设定图片所在的文件夹路径  \n",
    "folder_path = '/home/duhj/ContrastiveSeg/output/davinci/hrnet_w48_9class-onlyce_t/label'  # 需要替换为你的文件夹路径  \n",
    "  \n",
    "# 用于保存所有的图片数据  \n",
    "all_images = []  \n",
    "count = 0\n",
    "# 遍历文件夹下的所有文件  \n",
    "for filename in os.listdir(folder_path):  \n",
    "    # 检查文件是否是bmp图片  \n",
    "    if filename.endswith('.png'):  \n",
    "        # 读取图片  \n",
    "        img = cv2.imread(os.path.join(folder_path, filename))  \n",
    "        # 将图片数据转化为numpy数组并添加到列表中  \n",
    "        all_images.append(np.array(img))  \n",
    "    count += 1\n",
    "    if count > 10: break\n",
    "  \n",
    "# 将所有的图片数据拼接在一起  \n",
    "all_images_combined = np.concatenate(all_images, axis=0)  \n",
    "print(all_images_combined.shape)\n",
    "# 保存为npy文件  \n",
    "# np.save('all_images.npy', all_images_combined)"
   ]
  }
 ],
 "metadata": {
  "kernelspec": {
   "display_name": "Python 3",
   "language": "python",
   "name": "python3"
  },
  "language_info": {
   "codemirror_mode": {
    "name": "ipython",
    "version": 3
   },
   "file_extension": ".py",
   "mimetype": "text/x-python",
   "name": "python",
   "nbconvert_exporter": "python",
   "pygments_lexer": "ipython3",
   "version": "3.11.7"
  },
  "orig_nbformat": 4
 },
 "nbformat": 4,
 "nbformat_minor": 2
}
