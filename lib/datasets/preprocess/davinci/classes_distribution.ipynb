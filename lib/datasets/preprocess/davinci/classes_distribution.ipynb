{
 "cells": [
  {
   "cell_type": "code",
   "execution_count": 5,
   "metadata": {},
   "outputs": [],
   "source": [
    "# 数据集中彩色的掩码，按照colors.json中给出的编号，替换为classid写入到单通道掩码图片中\n",
    "import os\n",
    "import cv2\n",
    "import numpy as np\n",
    "import json\n",
    "import glob\n",
    "import matplotlib.pyplot as plt\n",
    "import pandas as pd"
   ]
  },
  {
   "cell_type": "code",
   "execution_count": 6,
   "metadata": {},
   "outputs": [
    {
     "data": {
      "text/plain": [
       "{'Bipolar Forceps': 1,\n",
       " 'Prograsp Forceps': 2,\n",
       " 'Large Needle Driver': 3,\n",
       " 'Vessel Sealer': 4,\n",
       " 'Grasping Retractor': 5,\n",
       " 'Monopolar Curved Scissors': 6,\n",
       " 'Other': 7}"
      ]
     },
     "execution_count": 6,
     "metadata": {},
     "output_type": "execute_result"
    }
   ],
   "source": [
    "with open(\"/home/duhj/datasets/2017Ready/instrument_type_mapping.json\", \"r\") as f:\n",
    "    label_list = json.load(f)\n",
    "label_list"
   ]
  },
  {
   "cell_type": "code",
   "execution_count": 7,
   "metadata": {},
   "outputs": [
    {
     "name": "stdout",
     "output_type": "stream",
     "text": [
      "[[2.7503386e+08]\n",
      " [7.8719710e+06]\n",
      " [5.1774350e+06]\n",
      " [1.8130146e+07]\n",
      " [3.0568990e+06]\n",
      " [0.0000000e+00]\n",
      " [5.3027230e+06]]\n",
      "1200\n"
     ]
    }
   ],
   "source": [
    "# 训练掩码图中，包括0在内的所有像素的值，计总数，最后的到所有类别的占比，求出各类的权重\n",
    "data_dir = '/home/duhj/datasets/2017Ready/val/label/'\n",
    "\n",
    "files = glob.iglob(data_dir+'*.bmp')\n",
    "pics = 0\n",
    "counts = None\n",
    "num_classes = len(label_list)\n",
    "for f in files:\n",
    "    img = cv2.imread(f, cv2.IMREAD_GRAYSCALE)\n",
    "    hist = cv2.calcHist([img], [0], None, [num_classes ], [0, num_classes ])\n",
    "    if counts is None:\n",
    "        counts = hist\n",
    "    else:\n",
    "        counts += hist\n",
    "    # print(str(f), end='\\r')\n",
    "    pics += 1\n",
    "print(counts)\n",
    "print(pics)"
   ]
  },
  {
   "cell_type": "code",
   "execution_count": 8,
   "metadata": {},
   "outputs": [
    {
     "data": {
      "text/plain": [
       "array([[2.7503386e+08],\n",
       "       [7.8719710e+06],\n",
       "       [5.1774350e+06],\n",
       "       [1.8130146e+07],\n",
       "       [3.0568990e+06],\n",
       "       [0.0000000e+00],\n",
       "       [5.3027230e+06]], dtype=float32)"
      ]
     },
     "execution_count": 8,
     "metadata": {},
     "output_type": "execute_result"
    }
   ],
   "source": [
    "counts"
   ]
  },
  {
   "cell_type": "code",
   "execution_count": 9,
   "metadata": {},
   "outputs": [
    {
     "data": {
      "text/html": [
       "<div>\n",
       "<style scoped>\n",
       "    .dataframe tbody tr th:only-of-type {\n",
       "        vertical-align: middle;\n",
       "    }\n",
       "\n",
       "    .dataframe tbody tr th {\n",
       "        vertical-align: top;\n",
       "    }\n",
       "\n",
       "    .dataframe thead th {\n",
       "        text-align: right;\n",
       "    }\n",
       "</style>\n",
       "<table border=\"1\" class=\"dataframe\">\n",
       "  <thead>\n",
       "    <tr style=\"text-align: right;\">\n",
       "      <th></th>\n",
       "      <th>0</th>\n",
       "    </tr>\n",
       "  </thead>\n",
       "  <tbody>\n",
       "    <tr>\n",
       "      <th>0</th>\n",
       "      <td>275033856.0</td>\n",
       "    </tr>\n",
       "    <tr>\n",
       "      <th>1</th>\n",
       "      <td>7871971.0</td>\n",
       "    </tr>\n",
       "    <tr>\n",
       "      <th>2</th>\n",
       "      <td>5177435.0</td>\n",
       "    </tr>\n",
       "    <tr>\n",
       "      <th>3</th>\n",
       "      <td>18130146.0</td>\n",
       "    </tr>\n",
       "    <tr>\n",
       "      <th>4</th>\n",
       "      <td>3056899.0</td>\n",
       "    </tr>\n",
       "    <tr>\n",
       "      <th>5</th>\n",
       "      <td>5302723.0</td>\n",
       "    </tr>\n",
       "  </tbody>\n",
       "</table>\n",
       "</div>"
      ],
      "text/plain": [
       "             0\n",
       "0  275033856.0\n",
       "1    7871971.0\n",
       "2    5177435.0\n",
       "3   18130146.0\n",
       "4    3056899.0\n",
       "5    5302723.0"
      ]
     },
     "execution_count": 9,
     "metadata": {},
     "output_type": "execute_result"
    }
   ],
   "source": [
    "counts = np.delete(counts, 5, axis=0)\n",
    "x = pd.DataFrame(counts)\n",
    "x"
   ]
  },
  {
   "cell_type": "code",
   "execution_count": 10,
   "metadata": {},
   "outputs": [
    {
     "data": {
      "text/html": [
       "<div>\n",
       "<style scoped>\n",
       "    .dataframe tbody tr th:only-of-type {\n",
       "        vertical-align: middle;\n",
       "    }\n",
       "\n",
       "    .dataframe tbody tr th {\n",
       "        vertical-align: top;\n",
       "    }\n",
       "\n",
       "    .dataframe thead th {\n",
       "        text-align: right;\n",
       "    }\n",
       "</style>\n",
       "<table border=\"1\" class=\"dataframe\">\n",
       "  <thead>\n",
       "    <tr style=\"text-align: right;\">\n",
       "      <th></th>\n",
       "      <th>0</th>\n",
       "    </tr>\n",
       "  </thead>\n",
       "  <tbody>\n",
       "    <tr>\n",
       "      <th>1</th>\n",
       "      <td>7871971.0</td>\n",
       "    </tr>\n",
       "    <tr>\n",
       "      <th>2</th>\n",
       "      <td>5177435.0</td>\n",
       "    </tr>\n",
       "    <tr>\n",
       "      <th>3</th>\n",
       "      <td>18130146.0</td>\n",
       "    </tr>\n",
       "    <tr>\n",
       "      <th>4</th>\n",
       "      <td>3056899.0</td>\n",
       "    </tr>\n",
       "    <tr>\n",
       "      <th>5</th>\n",
       "      <td>5302723.0</td>\n",
       "    </tr>\n",
       "  </tbody>\n",
       "</table>\n",
       "</div>"
      ],
      "text/plain": [
       "            0\n",
       "1   7871971.0\n",
       "2   5177435.0\n",
       "3  18130146.0\n",
       "4   3056899.0\n",
       "5   5302723.0"
      ]
     },
     "execution_count": 10,
     "metadata": {},
     "output_type": "execute_result"
    }
   ],
   "source": [
    "x = x[1:]\n",
    "x"
   ]
  },
  {
   "cell_type": "code",
   "execution_count": 11,
   "metadata": {},
   "outputs": [
    {
     "data": {
      "text/html": [
       "<div>\n",
       "<style scoped>\n",
       "    .dataframe tbody tr th:only-of-type {\n",
       "        vertical-align: middle;\n",
       "    }\n",
       "\n",
       "    .dataframe tbody tr th {\n",
       "        vertical-align: top;\n",
       "    }\n",
       "\n",
       "    .dataframe thead th {\n",
       "        text-align: right;\n",
       "    }\n",
       "</style>\n",
       "<table border=\"1\" class=\"dataframe\">\n",
       "  <thead>\n",
       "    <tr style=\"text-align: right;\">\n",
       "      <th></th>\n",
       "      <th>0</th>\n",
       "    </tr>\n",
       "  </thead>\n",
       "  <tbody>\n",
       "    <tr>\n",
       "      <th>0</th>\n",
       "      <td>1</td>\n",
       "    </tr>\n",
       "    <tr>\n",
       "      <th>1</th>\n",
       "      <td>2</td>\n",
       "    </tr>\n",
       "    <tr>\n",
       "      <th>2</th>\n",
       "      <td>3</td>\n",
       "    </tr>\n",
       "    <tr>\n",
       "      <th>3</th>\n",
       "      <td>4</td>\n",
       "    </tr>\n",
       "    <tr>\n",
       "      <th>4</th>\n",
       "      <td>5</td>\n",
       "    </tr>\n",
       "  </tbody>\n",
       "</table>\n",
       "</div>"
      ],
      "text/plain": [
       "   0\n",
       "0  1\n",
       "1  2\n",
       "2  3\n",
       "3  4\n",
       "4  5"
      ]
     },
     "execution_count": 11,
     "metadata": {},
     "output_type": "execute_result"
    }
   ],
   "source": [
    "l = pd.DataFrame([i for i in range(1, 6)])\n",
    "l"
   ]
  },
  {
   "cell_type": "code",
   "execution_count": 12,
   "metadata": {},
   "outputs": [
    {
     "data": {
      "image/png": "[encoded data removed]",
      "text/plain": [
       "<Figure size 900x900 with 1 Axes>"
      ]
     },
     "metadata": {},
     "output_type": "display_data"
    }
   ],
   "source": [
    "\n",
    "# colors = [\"#00ff00\", \"#33ffff\",  \"#ff3700\", \"#18377d\", \"#bb9b19\", \"#38aff8\", \"#f880ed\"]\n",
    "colors = [\"#00ff00\", \"#33ffff\",  \"#ff3700\",  \"#bb9b19\", \"#38aff8\", \"#f880ed\"]\n",
    "\n",
    "# 绘制饼图\n",
    "plt.figure(figsize=(9, 9))\n",
    "plt.rcParams.update({'font.size': 16})\n",
    "plt.pie(x[0],\n",
    "        labels= l[0],\n",
    "        colors=colors, autopct='%1.1f%%',\n",
    "        pctdistance=0.9)\n",
    "# plt.legend(bbox_to_anchor=(1, 1), loc=2, frameon=False)\n",
    "plt.show()"
   ]
  },
  {
   "cell_type": "markdown",
   "metadata": {},
   "source": [
    "## for endovis 2018 test datsets below:"
   ]
  },
  {
   "cell_type": "code",
   "execution_count": 13,
   "metadata": {},
   "outputs": [
    {
     "data": {
      "text/plain": [
       "[{'name': 'background-tissue', 'color': [0, 0, 0], 'classid': 0},\n",
       " {'name': 'instrument-shaft', 'color': [0, 255, 0], 'classid': 1},\n",
       " {'name': 'instrument-clasper', 'color': [0, 255, 255], 'classid': 2},\n",
       " {'name': 'instrument-wrist', 'color': [125, 255, 12], 'classid': 3},\n",
       " {'name': 'kidney-parenchyma', 'color': [255, 55, 0], 'classid': 4},\n",
       " {'name': 'covered-kidney', 'color': [24, 55, 125], 'classid': 5},\n",
       " {'name': 'thread', 'color': [187, 155, 25], 'classid': 6},\n",
       " {'name': 'clamps', 'color': [0, 255, 125], 'classid': 7},\n",
       " {'name': 'suturing-needle', 'color': [255, 255, 125], 'classid': 8},\n",
       " {'name': 'suction-instrument', 'color': [123, 15, 175], 'classid': 9},\n",
       " {'name': 'small-intestine', 'color': [124, 155, 5], 'classid': 10},\n",
       " {'name': 'ultrasound-probe', 'color': [12, 255, 141], 'classid': 11}]"
      ]
     },
     "execution_count": 13,
     "metadata": {},
     "output_type": "execute_result"
    }
   ],
   "source": [
    "with open(\"./colors.json\", \"r\") as f:\n",
    "    label_list = json.load(f)\n",
    "# label_list = label_list[:8]\n",
    "label_list\n"
   ]
  },
  {
   "cell_type": "code",
   "execution_count": 25,
   "metadata": {},
   "outputs": [
    {
     "name": "stdout",
     "output_type": "stream",
     "text": [
      "[[1.2702312e+08]\n",
      " [2.2617780e+07]\n",
      " [4.9349580e+06]\n",
      " [5.6081730e+06]\n",
      " [6.0075736e+07]\n",
      " [3.0379388e+07]\n",
      " [3.2760800e+05]\n",
      " [6.2765000e+04]\n",
      " [4.7133000e+04]\n",
      " [0.0000000e+00]\n",
      " [7.9977820e+06]\n",
      " [2.2830950e+06]]\n",
      "997\n"
     ]
    }
   ],
   "source": [
    "# 训练掩码图中，包括0在内的所有像素的值，计总数，最后的到所有类别的占比，求出各类的权重\n",
    "data_dir = '/home/duhj/datasets/2018-12colors/val/label/'\n",
    "\n",
    "files = glob.iglob(data_dir+'*.bmp')\n",
    "pics = 0\n",
    "counts = None\n",
    "num_classes = len(label_list)\n",
    "for f in files:\n",
    "    img = cv2.imread(f, cv2.IMREAD_GRAYSCALE)\n",
    "    hist = cv2.calcHist([img], [0], None, [num_classes ], [0, num_classes ])\n",
    "    if counts is None:\n",
    "        counts = hist\n",
    "    else:\n",
    "        counts += hist\n",
    "    # print(str(f), end='\\r')\n",
    "    pics += 1\n",
    "print(counts)\n",
    "print(pics)"
   ]
  },
  {
   "cell_type": "code",
   "execution_count": 30,
   "metadata": {},
   "outputs": [
    {
     "data": {
      "text/html": [
       "<div>\n",
       "<style scoped>\n",
       "    .dataframe tbody tr th:only-of-type {\n",
       "        vertical-align: middle;\n",
       "    }\n",
       "\n",
       "    .dataframe tbody tr th {\n",
       "        vertical-align: top;\n",
       "    }\n",
       "\n",
       "    .dataframe thead th {\n",
       "        text-align: right;\n",
       "    }\n",
       "</style>\n",
       "<table border=\"1\" class=\"dataframe\">\n",
       "  <thead>\n",
       "    <tr style=\"text-align: right;\">\n",
       "      <th></th>\n",
       "      <th>0</th>\n",
       "    </tr>\n",
       "  </thead>\n",
       "  <tbody>\n",
       "    <tr>\n",
       "      <th>0</th>\n",
       "      <td>22617780.0</td>\n",
       "    </tr>\n",
       "    <tr>\n",
       "      <th>1</th>\n",
       "      <td>4934958.0</td>\n",
       "    </tr>\n",
       "    <tr>\n",
       "      <th>2</th>\n",
       "      <td>5608173.0</td>\n",
       "    </tr>\n",
       "    <tr>\n",
       "      <th>3</th>\n",
       "      <td>60075736.0</td>\n",
       "    </tr>\n",
       "    <tr>\n",
       "      <th>4</th>\n",
       "      <td>30379388.0</td>\n",
       "    </tr>\n",
       "    <tr>\n",
       "      <th>5</th>\n",
       "      <td>327608.0</td>\n",
       "    </tr>\n",
       "    <tr>\n",
       "      <th>6</th>\n",
       "      <td>62765.0</td>\n",
       "    </tr>\n",
       "    <tr>\n",
       "      <th>7</th>\n",
       "      <td>47133.0</td>\n",
       "    </tr>\n",
       "    <tr>\n",
       "      <th>8</th>\n",
       "      <td>7997782.0</td>\n",
       "    </tr>\n",
       "  </tbody>\n",
       "</table>\n",
       "</div>"
      ],
      "text/plain": [
       "            0\n",
       "0  22617780.0\n",
       "1   4934958.0\n",
       "2   5608173.0\n",
       "3  60075736.0\n",
       "4  30379388.0\n",
       "5    327608.0\n",
       "6     62765.0\n",
       "7     47133.0\n",
       "8   7997782.0"
      ]
     },
     "execution_count": 30,
     "metadata": {},
     "output_type": "execute_result"
    }
   ],
   "source": [
    "counts2 = np.delete(counts, [11, 9, 0], axis=0)\n",
    "x = pd.DataFrame(counts2)\n",
    "x"
   ]
  },
  {
   "cell_type": "code",
   "execution_count": 31,
   "metadata": {},
   "outputs": [
    {
     "data": {
      "text/html": [
       "<div>\n",
       "<style scoped>\n",
       "    .dataframe tbody tr th:only-of-type {\n",
       "        vertical-align: middle;\n",
       "    }\n",
       "\n",
       "    .dataframe tbody tr th {\n",
       "        vertical-align: top;\n",
       "    }\n",
       "\n",
       "    .dataframe thead th {\n",
       "        text-align: right;\n",
       "    }\n",
       "</style>\n",
       "<table border=\"1\" class=\"dataframe\">\n",
       "  <thead>\n",
       "    <tr style=\"text-align: right;\">\n",
       "      <th></th>\n",
       "      <th>0</th>\n",
       "    </tr>\n",
       "  </thead>\n",
       "  <tbody>\n",
       "    <tr>\n",
       "      <th>0</th>\n",
       "      <td>1</td>\n",
       "    </tr>\n",
       "    <tr>\n",
       "      <th>1</th>\n",
       "      <td>2</td>\n",
       "    </tr>\n",
       "    <tr>\n",
       "      <th>2</th>\n",
       "      <td>3</td>\n",
       "    </tr>\n",
       "    <tr>\n",
       "      <th>3</th>\n",
       "      <td>4</td>\n",
       "    </tr>\n",
       "    <tr>\n",
       "      <th>4</th>\n",
       "      <td>5</td>\n",
       "    </tr>\n",
       "    <tr>\n",
       "      <th>5</th>\n",
       "      <td>6</td>\n",
       "    </tr>\n",
       "    <tr>\n",
       "      <th>6</th>\n",
       "      <td>7</td>\n",
       "    </tr>\n",
       "    <tr>\n",
       "      <th>7</th>\n",
       "      <td>8</td>\n",
       "    </tr>\n",
       "    <tr>\n",
       "      <th>8</th>\n",
       "      <td>9</td>\n",
       "    </tr>\n",
       "  </tbody>\n",
       "</table>\n",
       "</div>"
      ],
      "text/plain": [
       "   0\n",
       "0  1\n",
       "1  2\n",
       "2  3\n",
       "3  4\n",
       "4  5\n",
       "5  6\n",
       "6  7\n",
       "7  8\n",
       "8  9"
      ]
     },
     "execution_count": 31,
     "metadata": {},
     "output_type": "execute_result"
    }
   ],
   "source": [
    "l = pd.DataFrame([i for i in range(1, 10)])\n",
    "l"
   ]
  },
  {
   "cell_type": "code",
   "execution_count": 32,
   "metadata": {},
   "outputs": [
    {
     "data": {
      "image/png": "[encoded data removed]",
      "text/plain": [
       "<Figure size 900x900 with 1 Axes>"
      ]
     },
     "metadata": {},
     "output_type": "display_data"
    }
   ],
   "source": [
    "colors = [\"#00ff00\", \"#33ffff\",  \"#ff3700\", \"#18377d\", \"#bb9b19\", \"#38aff8\", \"#f880ed\"]\n",
    "\n",
    "# 绘制饼图\n",
    "plt.figure(figsize=(9, 9))\n",
    "plt.rcParams.update({'font.size': 16})\n",
    "plt.pie(x[0],\n",
    "        labels= l[0],\n",
    "        colors=colors, autopct='%1.1f%%',\n",
    "        pctdistance=0.9)\n",
    "# plt.legend(bbox_to_anchor=(1, 1), loc=2, frameon=False)\n",
    "plt.show()"
   ]
  }
 ],
 "metadata": {
  "kernelspec": {
   "display_name": "contra",
   "language": "python",
   "name": "python3"
  },
  "language_info": {
   "codemirror_mode": {
    "name": "ipython",
    "version": 3
   },
   "file_extension": ".py",
   "mimetype": "text/x-python",
   "name": "python",
   "nbconvert_exporter": "python",
   "pygments_lexer": "ipython3",
   "version": "3.11.7"
  }
 },
 "nbformat": 4,
 "nbformat_minor": 2
}
